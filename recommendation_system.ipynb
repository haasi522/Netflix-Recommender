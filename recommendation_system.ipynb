{
 "cells": [
  {
   "cell_type": "markdown",
   "id": "c8c92d67-a553-4abe-9eeb-567c69b96733",
   "metadata": {},
   "source": [
    "# Recommendation System"
   ]
  },
  {
   "cell_type": "code",
   "execution_count": null,
   "id": "35487e8d-ceb7-412e-ac3e-c5e0678169b1",
   "metadata": {},
   "outputs": [],
   "source": [
    "import numpy as np \n",
    "import pandas as pd \n",
    "import matplotlib.pyplot as plt\n",
    "import seaborn as sns"
   ]
  },
  {
   "cell_type": "code",
   "execution_count": null,
   "id": "9b5a32fe-a024-4f0c-9aa6-be184ad1cd63",
   "metadata": {},
   "outputs": [],
   "source": [
    "import warnings\n",
    "warnings.filterwarnings('ignore')"
   ]
  },
  {
   "cell_type": "code",
   "execution_count": null,
   "id": "034e3b4e-d523-4d3b-9987-fe0e96a70495",
   "metadata": {},
   "outputs": [],
   "source": [
    "df = pd.read_csv('netflix_data (1).csv')"
   ]
  },
  {
   "cell_type": "code",
   "execution_count": null,
   "id": "982e6883-18e5-4462-8c5b-a2a1f228a77b",
   "metadata": {},
   "outputs": [],
   "source": [
    "df.head()"
   ]
  },
  {
   "cell_type": "code",
   "execution_count": null,
   "id": "66b2e9d2-0d91-46cf-86af-7a8b518da84a",
   "metadata": {},
   "outputs": [],
   "source": [
    "df.tail()"
   ]
  },
  {
   "cell_type": "code",
   "execution_count": null,
   "id": "5e65c541-74fd-45e5-ab1f-206b8ee45383",
   "metadata": {},
   "outputs": [],
   "source": [
    "df.shape"
   ]
  },
  {
   "cell_type": "code",
   "execution_count": null,
   "id": "cef31e52-7e85-4c58-90ad-69a916741c3b",
   "metadata": {},
   "outputs": [],
   "source": [
    "df.columns"
   ]
  },
  {
   "cell_type": "markdown",
   "id": "482ff621-3abb-48ff-a3fa-a3e4ad8f4c7e",
   "metadata": {},
   "source": [
    "1. **`show_id`** – A unique identifier for each movie or TV show.  \n",
    "2. **`type`** – Specifies whether the content is a *Movie* or a *TV Show*.  \n",
    "3. **`title`** – The name of the movie or TV show.  \n",
    "4. **`director`** – Name of the director(s) who created the movie or show.  \n",
    "5. **`cast`** – A list of main actors/actresses in the movie or show.  \n",
    "6. **`country`** – The country where the movie or TV show was produced.  \n",
    "7. **`date_added`** – The date the content was added to the platform.  \n",
    "8. **`release_year`** – The year when the movie or TV show was originally released.  \n",
    "9. **`rating`** – The age classification (e.g., PG, R, TV-MA) assigned to the content.  \n",
    "10. **`duration`** – The length of the content (e.g., *90 min* for movies, *3 Seasons* for TV shows).  \n",
    "11. **`listed_in`** – Genres/categories the content belongs to (e.g., *Drama, Comedy*).  \n",
    "12. **`description`** – A short summary or synopsis of the movie or TV show.  "
   ]
  },
  {
   "cell_type": "code",
   "execution_count": null,
   "id": "49aa7620-9438-487b-8309-0c3f231e839a",
   "metadata": {},
   "outputs": [],
   "source": [
    "df.duplicated().sum()"
   ]
  },
  {
   "cell_type": "code",
   "execution_count": null,
   "id": "ebc02abc-2c2d-4b1b-bc62-a7c45b16481f",
   "metadata": {},
   "outputs": [],
   "source": [
    "df.isnull().sum()"
   ]
  },
  {
   "cell_type": "code",
   "execution_count": null,
   "id": "a49cbcea-4847-412c-8390-b51cc6412be1",
   "metadata": {},
   "outputs": [],
   "source": [
    "df.info()"
   ]
  },
  {
   "cell_type": "code",
   "execution_count": null,
   "id": "9711c8ad-f0f9-44a6-ba7f-8e47a6b45f25",
   "metadata": {},
   "outputs": [],
   "source": [
    "df.describe()"
   ]
  },
  {
   "cell_type": "code",
   "execution_count": null,
   "id": "635dd3d0-8fb9-4a1e-9a6d-5a41f3e51845",
   "metadata": {},
   "outputs": [],
   "source": [
    "df['director'].fillna('Unknown', inplace=True)\n",
    "df['cast'].fillna('Unknown', inplace=True)\n",
    "df['country'].fillna('Unknown', inplace=True)"
   ]
  },
  {
   "cell_type": "code",
   "execution_count": null,
   "id": "d84e45af-a490-4c4e-9013-679e0aad4cfe",
   "metadata": {},
   "outputs": [],
   "source": [
    "df['rating'].fillna(df['rating'].mode()[0], inplace=True)"
   ]
  },
  {
   "cell_type": "code",
   "execution_count": null,
   "id": "9b17b6f4-c629-490d-a41b-0da5174b7a38",
   "metadata": {},
   "outputs": [],
   "source": [
    "df = df.dropna()"
   ]
  },
  {
   "cell_type": "code",
   "execution_count": null,
   "id": "3c701612-aa38-47b1-bcfa-f740b8fa9b81",
   "metadata": {},
   "outputs": [],
   "source": [
    "df.isnull().sum()"
   ]
  },
  {
   "cell_type": "code",
   "execution_count": null,
   "id": "0cf036fc-fbc3-4075-bff7-9ec4a46f67a1",
   "metadata": {},
   "outputs": [],
   "source": [
    "object_columns = df.select_dtypes(include=['object']).columns\n",
    "print(\"Object type columns:\")\n",
    "print(object_columns)\n",
    "\n",
    "numerical_columns = df.select_dtypes(include=['int64', 'float64']).columns\n",
    "print(\"\\nNumerical type columns:\")\n",
    "print(numerical_columns)"
   ]
  },
  {
   "cell_type": "code",
   "execution_count": null,
   "id": "75716a51-2fc5-482d-97f9-9e5da5c5d815",
   "metadata": {},
   "outputs": [],
   "source": [
    "def classify_features(df):\n",
    "    categorical_features = []\n",
    "    non_categorical_features = []\n",
    "    discrete_features = []\n",
    "    continuous_features = []\n",
    "\n",
    "    for column in df.columns:\n",
    "        if df[column].dtype == 'object':\n",
    "            if df[column].nunique() < 40:\n",
    "                categorical_features.append(column)\n",
    "            else:\n",
    "                non_categorical_features.append(column)\n",
    "        elif df[column].dtype in ['int64', 'float64']:\n",
    "            if df[column].nunique() < 10:\n",
    "                discrete_features.append(column)\n",
    "            else:\n",
    "                continuous_features.append(column)\n",
    "\n",
    "    return categorical_features, non_categorical_features, discrete_features, continuous_features"
   ]
  },
  {
   "cell_type": "code",
   "execution_count": null,
   "id": "a4f912ba-181e-487a-8b9c-cdc39ab900f0",
   "metadata": {},
   "outputs": [],
   "source": [
    "categorical, non_categorical, discrete, continuous = classify_features(df)"
   ]
  },
  {
   "cell_type": "code",
   "execution_count": null,
   "id": "be1329b2-2164-4fa9-be03-1e736934e138",
   "metadata": {},
   "outputs": [],
   "source": [
    "print(\"Categorical Features:\", categorical)\n",
    "print(\"Non-Categorical Features:\", non_categorical)\n",
    "print(\"Discrete Features:\", discrete)\n",
    "print(\"Continuous Features:\", continuous)"
   ]
  },
  {
   "cell_type": "code",
   "execution_count": null,
   "id": "567c15f3-3671-4830-84c7-8ff5088f0053",
   "metadata": {},
   "outputs": [],
   "source": [
    "for i in categorical:\n",
    "    print(i)\n",
    "    print(df[i].unique())\n",
    "    print()"
   ]
  },
  {
   "cell_type": "code",
   "execution_count": null,
   "id": "97283196-690d-41fc-ba38-f12c44fa619d",
   "metadata": {},
   "outputs": [],
   "source": [
    "for i in categorical:\n",
    "    print(i)\n",
    "    print(df[i].value_counts())\n",
    "    print()"
   ]
  },
  {
   "cell_type": "code",
   "execution_count": null,
   "id": "5d1f1df1-5ec8-4aa7-9fa1-4ba4161bb281",
   "metadata": {},
   "outputs": [],
   "source": [
    "for i in categorical:\n",
    "    plt.figure(figsize=(20, 8))\n",
    "    ax = sns.countplot(x=i, data=df, palette='hls')\n",
    "\n",
    "    for p in ax.patches:\n",
    "        height = p.get_height()\n",
    "        ax.annotate(f'{height}', \n",
    "                    xy=(p.get_x() + p.get_width() / 2., height),\n",
    "                    xytext=(0, 10),  \n",
    "                    textcoords='offset points',  \n",
    "                    ha='center', va='center')  \n",
    "    \n",
    "    plt.xticks(rotation = 90)\n",
    "    plt.show()"
   ]
  },
  {
   "cell_type": "code",
   "execution_count": null,
   "id": "2bd2b1bf-bf33-49fa-ba5b-1cb19f6debd1",
   "metadata": {},
   "outputs": [],
   "source": [
    "import plotly.express as px\n",
    "\n",
    "for i in categorical:\n",
    "    counts = df[i].value_counts()\n",
    "    fig = px.pie(counts, values=counts.values, names=counts.index, title=f'Distribution of {i}')\n",
    "    fig.show()"
   ]
  },
  {
   "cell_type": "code",
   "execution_count": null,
   "id": "4525c2b3-1b57-4337-b4d3-012cdc427bc1",
   "metadata": {},
   "outputs": [],
   "source": [
    "import plotly.graph_objects as go\n",
    "\n",
    "movie_counts = df['release_year'].value_counts().sort_index()\n",
    "\n",
    "fig = go.Figure(data=go.Bar(x=movie_counts.index, y=movie_counts.values))\n",
    "fig.update_layout(\n",
    "    plot_bgcolor='rgb(17, 17, 17)',  \n",
    "    paper_bgcolor='rgb(17, 17, 17)',  \n",
    "    font_color='white', \n",
    "    title='Number of Movies Released Each Year',  \n",
    "    xaxis=dict(title='Year'),  \n",
    "    yaxis=dict(title='Number of Movies')\n",
    ")\n",
    "fig.update_traces(marker_color='red')\n",
    "fig.show()"
   ]
  },
  {
   "cell_type": "code",
   "execution_count": null,
   "id": "53b09ca6-38a2-46f1-9da6-2d5dd976e248",
   "metadata": {},
   "outputs": [],
   "source": [
    "import plotly.graph_objects as go\n",
    "\n",
    "movie_type_counts = df['type'].value_counts()\n",
    "\n",
    "fig = go.Figure(data=go.Pie(labels=movie_type_counts.index, values=movie_type_counts.values))\n",
    "\n",
    "fig.update_layout(\n",
    "    plot_bgcolor='rgb(17, 17, 17)',  \n",
    "    paper_bgcolor='rgb(17, 17, 17)', \n",
    "    font_color='white',  \n",
    "    title='Distribution of Content Types',\n",
    ")\n",
    "fig.update_traces(marker=dict(colors=['red', 'blue']))  \n",
    "\n",
    "fig.show()"
   ]
  },
  {
   "cell_type": "code",
   "execution_count": null,
   "id": "cb172530-5d85-4b79-9832-9e94c07e0f5b",
   "metadata": {},
   "outputs": [],
   "source": [
    "import plotly.express as px\n",
    "\n",
    "top_countries = df['country'].value_counts().head(10)\n",
    "\n",
    "fig = px.treemap(\n",
    "    names=top_countries.index, \n",
    "    parents=[\"\" for _ in top_countries.index], \n",
    "    values=top_countries.values\n",
    ")\n",
    "\n",
    "fig.update_layout(\n",
    "    plot_bgcolor='rgb(17, 17, 17)',  \n",
    "    paper_bgcolor='rgb(17, 17, 17)', \n",
    "    font_color='white',  \n",
    "    title='Top Countries with Highest Number of Movies',\n",
    ")\n",
    "\n",
    "fig.show()"
   ]
  },
  {
   "cell_type": "code",
   "execution_count": null,
   "id": "99c549e5-d272-4e88-b760-cd422d0c9171",
   "metadata": {},
   "outputs": [],
   "source": [
    "country_movie_counts = df['country'].value_counts().reset_index()\n",
    "country_movie_counts.columns = ['Country', 'Movie Count']\n",
    "\n",
    "fig = px.choropleth(\n",
    "    data_frame=country_movie_counts, \n",
    "    locations='Country', \n",
    "    locationmode='country names',\n",
    "    color='Movie Count', \n",
    "    title='Number of Movies Released By Country',\n",
    "    color_continuous_scale='Reds', \n",
    "    range_color=(0, country_movie_counts['Movie Count'].max()),\n",
    "    labels={'Movie Count': 'Number of Movies'}\n",
    ")\n",
    "\n",
    "fig.update_layout(\n",
    "    plot_bgcolor='rgb(17, 17, 17)',  \n",
    "    paper_bgcolor='rgb(17, 17, 17)', \n",
    "    font_color='white'\n",
    ")\n",
    "\n",
    "fig.show()"
   ]
  },
  {
   "cell_type": "code",
   "execution_count": null,
   "id": "5b4f6363-097d-49f3-88df-4117e42a6799",
   "metadata": {},
   "outputs": [],
   "source": [
    "ratings = list(df['rating'].value_counts().index)\n",
    "rating_counts = list(df['rating'].value_counts().values)\n",
    "\n",
    "fig = go.Figure(data=[go.Bar(\n",
    "    x=ratings,\n",
    "    y=rating_counts,\n",
    "    marker_color='#E50914'\n",
    ")])\n",
    "\n",
    "fig.update_layout(\n",
    "    title='Movie Ratings Distribution',\n",
    "    xaxis_title='Rating',\n",
    "    yaxis_title='Count',\n",
    "    plot_bgcolor='rgba(0, 0, 0, 0)',\n",
    "    paper_bgcolor='rgba(0, 0, 0, 0.7)',\n",
    "    font=dict(\n",
    "        color='white'\n",
    "    )\n",
    ")\n",
    "\n",
    "fig.show()"
   ]
  },
  {
   "cell_type": "code",
   "execution_count": null,
   "id": "4a360fe8-5b6f-42db-9975-bdbd2ba7a953",
   "metadata": {},
   "outputs": [],
   "source": [
    "durations = list(df['duration'].value_counts().index)\n",
    "duration_counts = list(df['duration'].value_counts().values)\n",
    "\n",
    "fig = go.Figure(data=[go.Bar(\n",
    "    x=durations,\n",
    "    y=duration_counts,\n",
    "    marker_color='#E50914'\n",
    ")])\n",
    "\n",
    "fig.update_layout(\n",
    "    title='Movie Durations Distribution',\n",
    "    xaxis_title='Duration',\n",
    "    yaxis_title='Count',\n",
    "    plot_bgcolor='rgba(0, 0, 0, 0)',\n",
    "    paper_bgcolor='rgba(0, 0, 0, 0.7)',\n",
    "    font=dict(\n",
    "        color='white'\n",
    "    )\n",
    ")\n",
    "\n",
    "fig.show()"
   ]
  },
  {
   "cell_type": "code",
   "execution_count": null,
   "id": "fe7fbee2-4035-4109-b750-e4eb2092e00c",
   "metadata": {},
   "outputs": [],
   "source": [
    "from wordcloud import WordCloud\n",
    "import matplotlib.pyplot as plt\n",
    "\n",
    "titles = df['title'].dropna().values  \n",
    "\n",
    "text = ' '.join(titles)\n",
    "\n",
    "wordcloud = WordCloud(background_color='black', colormap='Reds').generate(text)\n",
    "\n",
    "plt.figure(figsize=(10, 6))\n",
    "plt.imshow(wordcloud, interpolation='bilinear')\n",
    "plt.axis('off')\n",
    "plt.title('Most Common Words in Netflix Titles', color='black')\n",
    "plt.show()"
   ]
  },
  {
   "cell_type": "code",
   "execution_count": null,
   "id": "ae784bc4-6457-40c0-b1ef-a512e6bef5cd",
   "metadata": {},
   "outputs": [],
   "source": [
    "descriptions = df['description'].dropna().values  \n",
    "\n",
    "text = ' '.join(descriptions)\n",
    "\n",
    "wordcloud = WordCloud(background_color='black', colormap='Reds').generate(text)\n",
    "\n",
    "plt.figure(figsize=(10, 6))\n",
    "plt.imshow(wordcloud, interpolation='bilinear')\n",
    "plt.axis('off')\n",
    "plt.title('Most Common Words in Netflix Descriptions', color='white')\n",
    "plt.show()"
   ]
  },
  {
   "cell_type": "code",
   "execution_count": null,
   "id": "34f05ce9-afe6-492c-a6e6-402346ab9e56",
   "metadata": {},
   "outputs": [],
   "source": [
    "from sklearn.feature_extraction.text import TfidfVectorizer\n",
    "from sklearn.metrics.pairwise import cosine_similarity"
   ]
  },
  {
   "cell_type": "code",
   "execution_count": null,
   "id": "0fdfcf87-4dda-4ef8-be8d-d172c72be892",
   "metadata": {},
   "outputs": [],
   "source": [
    "df['combined_features'] = df['title'] + \" \" + df['listed_in'] + \" \" + df['description']"
   ]
  },
  {
   "cell_type": "code",
   "execution_count": null,
   "id": "10d81267-8bb6-47fa-b740-ee7c387f4076",
   "metadata": {},
   "outputs": [],
   "source": [
    "tfidf_vectorizer = TfidfVectorizer(stop_words='english')\n",
    "tfidf_matrix = tfidf_vectorizer.fit_transform(df['combined_features'])"
   ]
  },
  {
   "cell_type": "code",
   "execution_count": null,
   "id": "94b16bb6-400b-42ec-9558-7a7d971e54ee",
   "metadata": {},
   "outputs": [],
   "source": [
    "cosine_sim = cosine_similarity(tfidf_matrix, tfidf_matrix)"
   ]
  },
  {
   "cell_type": "code",
   "execution_count": null,
   "id": "98d18bac-0bdc-4375-adc7-c63575e4011d",
   "metadata": {},
   "outputs": [],
   "source": [
    "def recommend_movies(title, df, cosine_sim):\n",
    "    idx = df[df['title'] == title].index\n",
    "\n",
    "    if len(idx) == 0:\n",
    "        return \"Title not found in dataset. Please try another movie/show.\"\n",
    "\n",
    "    idx = idx[0]\n",
    "    sim_scores = list(enumerate(cosine_sim[idx]))\n",
    "    sim_scores = sorted(sim_scores, key=lambda x: x[1], reverse=True)\n",
    "    sim_scores = sim_scores[1:11]  \n",
    "\n",
    "    movie_indices = [i[0] for i in sim_scores]\n",
    "    return df.iloc[movie_indices][['title', 'listed_in', 'description']]"
   ]
  },
  {
   "cell_type": "code",
   "execution_count": null,
   "id": "75d32d04-7143-4514-b722-d689c5895124",
   "metadata": {},
   "outputs": [],
   "source": [
    "print(recommend_movies(\"Kota Factory\", df, cosine_sim))"
   ]
  },
  {
   "cell_type": "code",
   "execution_count": null,
   "id": "3a9cadba-51ea-4190-9f7c-7c7238846e19",
   "metadata": {},
   "outputs": [],
   "source": []
  }
 ],
 "metadata": {
  "kernelspec": {
   "display_name": "Python 3 (ipykernel)",
   "language": "python",
   "name": "python3"
  },
  "language_info": {
   "codemirror_mode": {
    "name": "ipython",
    "version": 3
   },
   "file_extension": ".py",
   "mimetype": "text/x-python",
   "name": "python",
   "nbconvert_exporter": "python",
   "pygments_lexer": "ipython3",
   "version": "3.13.2"
  }
 },
 "nbformat": 4,
 "nbformat_minor": 5
}
